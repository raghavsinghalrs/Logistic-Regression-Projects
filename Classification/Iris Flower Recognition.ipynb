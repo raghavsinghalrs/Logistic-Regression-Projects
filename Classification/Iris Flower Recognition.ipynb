{
    "cells": [
        {
            "cell_type": "code",
            "execution_count": 1,
            "source": [
                "import pandas as pd\r\n",
                "import numpy as np\r\n",
                "import matplotlib.pyplot as plt\r\n",
                "import seaborn as sns"
            ],
            "outputs": [],
            "metadata": {}
        },
        {
            "cell_type": "code",
            "execution_count": 2,
            "source": [
                "df = pd.read_csv(r\"C:\\Users\\praga\\Desktop\\Jupyter/IRIS.csv\")"
            ],
            "outputs": [],
            "metadata": {}
        },
        {
            "cell_type": "code",
            "execution_count": 3,
            "source": [
                "df.head()"
            ],
            "outputs": [
                {
                    "output_type": "execute_result",
                    "data": {
                        "text/plain": [
                            "   sepal_length  sepal_width  petal_length  petal_width      species\n",
                            "0           5.1          3.5           1.4          0.2  Iris-setosa\n",
                            "1           4.9          3.0           1.4          0.2  Iris-setosa\n",
                            "2           4.7          3.2           1.3          0.2  Iris-setosa\n",
                            "3           4.6          3.1           1.5          0.2  Iris-setosa\n",
                            "4           5.0          3.6           1.4          0.2  Iris-setosa"
                        ],
                        "text/html": [
                            "<div>\n",
                            "<style scoped>\n",
                            "    .dataframe tbody tr th:only-of-type {\n",
                            "        vertical-align: middle;\n",
                            "    }\n",
                            "\n",
                            "    .dataframe tbody tr th {\n",
                            "        vertical-align: top;\n",
                            "    }\n",
                            "\n",
                            "    .dataframe thead th {\n",
                            "        text-align: right;\n",
                            "    }\n",
                            "</style>\n",
                            "<table border=\"1\" class=\"dataframe\">\n",
                            "  <thead>\n",
                            "    <tr style=\"text-align: right;\">\n",
                            "      <th></th>\n",
                            "      <th>sepal_length</th>\n",
                            "      <th>sepal_width</th>\n",
                            "      <th>petal_length</th>\n",
                            "      <th>petal_width</th>\n",
                            "      <th>species</th>\n",
                            "    </tr>\n",
                            "  </thead>\n",
                            "  <tbody>\n",
                            "    <tr>\n",
                            "      <th>0</th>\n",
                            "      <td>5.1</td>\n",
                            "      <td>3.5</td>\n",
                            "      <td>1.4</td>\n",
                            "      <td>0.2</td>\n",
                            "      <td>Iris-setosa</td>\n",
                            "    </tr>\n",
                            "    <tr>\n",
                            "      <th>1</th>\n",
                            "      <td>4.9</td>\n",
                            "      <td>3.0</td>\n",
                            "      <td>1.4</td>\n",
                            "      <td>0.2</td>\n",
                            "      <td>Iris-setosa</td>\n",
                            "    </tr>\n",
                            "    <tr>\n",
                            "      <th>2</th>\n",
                            "      <td>4.7</td>\n",
                            "      <td>3.2</td>\n",
                            "      <td>1.3</td>\n",
                            "      <td>0.2</td>\n",
                            "      <td>Iris-setosa</td>\n",
                            "    </tr>\n",
                            "    <tr>\n",
                            "      <th>3</th>\n",
                            "      <td>4.6</td>\n",
                            "      <td>3.1</td>\n",
                            "      <td>1.5</td>\n",
                            "      <td>0.2</td>\n",
                            "      <td>Iris-setosa</td>\n",
                            "    </tr>\n",
                            "    <tr>\n",
                            "      <th>4</th>\n",
                            "      <td>5.0</td>\n",
                            "      <td>3.6</td>\n",
                            "      <td>1.4</td>\n",
                            "      <td>0.2</td>\n",
                            "      <td>Iris-setosa</td>\n",
                            "    </tr>\n",
                            "  </tbody>\n",
                            "</table>\n",
                            "</div>"
                        ]
                    },
                    "metadata": {},
                    "execution_count": 3
                }
            ],
            "metadata": {}
        },
        {
            "cell_type": "code",
            "execution_count": 4,
            "source": [
                "df.describe().transpose()"
            ],
            "outputs": [
                {
                    "output_type": "execute_result",
                    "data": {
                        "text/plain": [
                            "              count      mean       std  min  25%   50%  75%  max\n",
                            "sepal_length  150.0  5.843333  0.828066  4.3  5.1  5.80  6.4  7.9\n",
                            "sepal_width   150.0  3.054000  0.433594  2.0  2.8  3.00  3.3  4.4\n",
                            "petal_length  150.0  3.758667  1.764420  1.0  1.6  4.35  5.1  6.9\n",
                            "petal_width   150.0  1.198667  0.763161  0.1  0.3  1.30  1.8  2.5"
                        ],
                        "text/html": [
                            "<div>\n",
                            "<style scoped>\n",
                            "    .dataframe tbody tr th:only-of-type {\n",
                            "        vertical-align: middle;\n",
                            "    }\n",
                            "\n",
                            "    .dataframe tbody tr th {\n",
                            "        vertical-align: top;\n",
                            "    }\n",
                            "\n",
                            "    .dataframe thead th {\n",
                            "        text-align: right;\n",
                            "    }\n",
                            "</style>\n",
                            "<table border=\"1\" class=\"dataframe\">\n",
                            "  <thead>\n",
                            "    <tr style=\"text-align: right;\">\n",
                            "      <th></th>\n",
                            "      <th>count</th>\n",
                            "      <th>mean</th>\n",
                            "      <th>std</th>\n",
                            "      <th>min</th>\n",
                            "      <th>25%</th>\n",
                            "      <th>50%</th>\n",
                            "      <th>75%</th>\n",
                            "      <th>max</th>\n",
                            "    </tr>\n",
                            "  </thead>\n",
                            "  <tbody>\n",
                            "    <tr>\n",
                            "      <th>sepal_length</th>\n",
                            "      <td>150.0</td>\n",
                            "      <td>5.843333</td>\n",
                            "      <td>0.828066</td>\n",
                            "      <td>4.3</td>\n",
                            "      <td>5.1</td>\n",
                            "      <td>5.80</td>\n",
                            "      <td>6.4</td>\n",
                            "      <td>7.9</td>\n",
                            "    </tr>\n",
                            "    <tr>\n",
                            "      <th>sepal_width</th>\n",
                            "      <td>150.0</td>\n",
                            "      <td>3.054000</td>\n",
                            "      <td>0.433594</td>\n",
                            "      <td>2.0</td>\n",
                            "      <td>2.8</td>\n",
                            "      <td>3.00</td>\n",
                            "      <td>3.3</td>\n",
                            "      <td>4.4</td>\n",
                            "    </tr>\n",
                            "    <tr>\n",
                            "      <th>petal_length</th>\n",
                            "      <td>150.0</td>\n",
                            "      <td>3.758667</td>\n",
                            "      <td>1.764420</td>\n",
                            "      <td>1.0</td>\n",
                            "      <td>1.6</td>\n",
                            "      <td>4.35</td>\n",
                            "      <td>5.1</td>\n",
                            "      <td>6.9</td>\n",
                            "    </tr>\n",
                            "    <tr>\n",
                            "      <th>petal_width</th>\n",
                            "      <td>150.0</td>\n",
                            "      <td>1.198667</td>\n",
                            "      <td>0.763161</td>\n",
                            "      <td>0.1</td>\n",
                            "      <td>0.3</td>\n",
                            "      <td>1.30</td>\n",
                            "      <td>1.8</td>\n",
                            "      <td>2.5</td>\n",
                            "    </tr>\n",
                            "  </tbody>\n",
                            "</table>\n",
                            "</div>"
                        ]
                    },
                    "metadata": {},
                    "execution_count": 4
                }
            ],
            "metadata": {}
        },
        {
            "cell_type": "code",
            "execution_count": 5,
            "source": [
                "plt.scatter(df.petal_width,df.species)"
            ],
            "outputs": [
                {
                    "output_type": "execute_result",
                    "data": {
                        "text/plain": [
                            "<matplotlib.collections.PathCollection at 0x1d31f5103a0>"
                        ]
                    },
                    "metadata": {},
                    "execution_count": 5
                },
                {
                    "output_type": "display_data",
                    "data": {
                        "text/plain": [
                            "<Figure size 432x288 with 1 Axes>"
                        ],
                        "image/png": "[encoded data removed]"
                    },
                    "metadata": {
                        "needs_background": "light"
                    }
                }
            ],
            "metadata": {}
        },
        {
            "cell_type": "code",
            "execution_count": 6,
            "source": [
                "plt.bar(df['species'],df['petal_width'])"
            ],
            "outputs": [
                {
                    "output_type": "execute_result",
                    "data": {
                        "text/plain": [
                            "<BarContainer object of 150 artists>"
                        ]
                    },
                    "metadata": {},
                    "execution_count": 6
                },
                {
                    "output_type": "display_data",
                    "data": {
                        "text/plain": [
                            "<Figure size 432x288 with 1 Axes>"
                        ],
                        "image/png": "[encoded data removed]"
                    },
                    "metadata": {
                        "needs_background": "light"
                    }
                }
            ],
            "metadata": {}
        },
        {
            "cell_type": "code",
            "execution_count": 7,
            "source": [
                "from sklearn.preprocessing import StandardScaler"
            ],
            "outputs": [],
            "metadata": {}
        },
        {
            "cell_type": "code",
            "execution_count": 8,
            "source": [
                "SS = StandardScaler()"
            ],
            "outputs": [],
            "metadata": {}
        },
        {
            "cell_type": "code",
            "execution_count": 9,
            "source": [
                "df"
            ],
            "outputs": [
                {
                    "output_type": "execute_result",
                    "data": {
                        "text/plain": [
                            "     sepal_length  sepal_width  petal_length  petal_width         species\n",
                            "0             5.1          3.5           1.4          0.2     Iris-setosa\n",
                            "1             4.9          3.0           1.4          0.2     Iris-setosa\n",
                            "2             4.7          3.2           1.3          0.2     Iris-setosa\n",
                            "3             4.6          3.1           1.5          0.2     Iris-setosa\n",
                            "4             5.0          3.6           1.4          0.2     Iris-setosa\n",
                            "..            ...          ...           ...          ...             ...\n",
                            "145           6.7          3.0           5.2          2.3  Iris-virginica\n",
                            "146           6.3          2.5           5.0          1.9  Iris-virginica\n",
                            "147           6.5          3.0           5.2          2.0  Iris-virginica\n",
                            "148           6.2          3.4           5.4          2.3  Iris-virginica\n",
                            "149           5.9          3.0           5.1          1.8  Iris-virginica\n",
                            "\n",
                            "[150 rows x 5 columns]"
                        ],
                        "text/html": [
                            "<div>\n",
                            "<style scoped>\n",
                            "    .dataframe tbody tr th:only-of-type {\n",
                            "        vertical-align: middle;\n",
                            "    }\n",
                            "\n",
                            "    .dataframe tbody tr th {\n",
                            "        vertical-align: top;\n",
                            "    }\n",
                            "\n",
                            "    .dataframe thead th {\n",
                            "        text-align: right;\n",
                            "    }\n",
                            "</style>\n",
                            "<table border=\"1\" class=\"dataframe\">\n",
                            "  <thead>\n",
                            "    <tr style=\"text-align: right;\">\n",
                            "      <th></th>\n",
                            "      <th>sepal_length</th>\n",
                            "      <th>sepal_width</th>\n",
                            "      <th>petal_length</th>\n",
                            "      <th>petal_width</th>\n",
                            "      <th>species</th>\n",
                            "    </tr>\n",
                            "  </thead>\n",
                            "  <tbody>\n",
                            "    <tr>\n",
                            "      <th>0</th>\n",
                            "      <td>5.1</td>\n",
                            "      <td>3.5</td>\n",
                            "      <td>1.4</td>\n",
                            "      <td>0.2</td>\n",
                            "      <td>Iris-setosa</td>\n",
                            "    </tr>\n",
                            "    <tr>\n",
                            "      <th>1</th>\n",
                            "      <td>4.9</td>\n",
                            "      <td>3.0</td>\n",
                            "      <td>1.4</td>\n",
                            "      <td>0.2</td>\n",
                            "      <td>Iris-setosa</td>\n",
                            "    </tr>\n",
                            "    <tr>\n",
                            "      <th>2</th>\n",
                            "      <td>4.7</td>\n",
                            "      <td>3.2</td>\n",
                            "      <td>1.3</td>\n",
                            "      <td>0.2</td>\n",
                            "      <td>Iris-setosa</td>\n",
                            "    </tr>\n",
                            "    <tr>\n",
                            "      <th>3</th>\n",
                            "      <td>4.6</td>\n",
                            "      <td>3.1</td>\n",
                            "      <td>1.5</td>\n",
                            "      <td>0.2</td>\n",
                            "      <td>Iris-setosa</td>\n",
                            "    </tr>\n",
                            "    <tr>\n",
                            "      <th>4</th>\n",
                            "      <td>5.0</td>\n",
                            "      <td>3.6</td>\n",
                            "      <td>1.4</td>\n",
                            "      <td>0.2</td>\n",
                            "      <td>Iris-setosa</td>\n",
                            "    </tr>\n",
                            "    <tr>\n",
                            "      <th>...</th>\n",
                            "      <td>...</td>\n",
                            "      <td>...</td>\n",
                            "      <td>...</td>\n",
                            "      <td>...</td>\n",
                            "      <td>...</td>\n",
                            "    </tr>\n",
                            "    <tr>\n",
                            "      <th>145</th>\n",
                            "      <td>6.7</td>\n",
                            "      <td>3.0</td>\n",
                            "      <td>5.2</td>\n",
                            "      <td>2.3</td>\n",
                            "      <td>Iris-virginica</td>\n",
                            "    </tr>\n",
                            "    <tr>\n",
                            "      <th>146</th>\n",
                            "      <td>6.3</td>\n",
                            "      <td>2.5</td>\n",
                            "      <td>5.0</td>\n",
                            "      <td>1.9</td>\n",
                            "      <td>Iris-virginica</td>\n",
                            "    </tr>\n",
                            "    <tr>\n",
                            "      <th>147</th>\n",
                            "      <td>6.5</td>\n",
                            "      <td>3.0</td>\n",
                            "      <td>5.2</td>\n",
                            "      <td>2.0</td>\n",
                            "      <td>Iris-virginica</td>\n",
                            "    </tr>\n",
                            "    <tr>\n",
                            "      <th>148</th>\n",
                            "      <td>6.2</td>\n",
                            "      <td>3.4</td>\n",
                            "      <td>5.4</td>\n",
                            "      <td>2.3</td>\n",
                            "      <td>Iris-virginica</td>\n",
                            "    </tr>\n",
                            "    <tr>\n",
                            "      <th>149</th>\n",
                            "      <td>5.9</td>\n",
                            "      <td>3.0</td>\n",
                            "      <td>5.1</td>\n",
                            "      <td>1.8</td>\n",
                            "      <td>Iris-virginica</td>\n",
                            "    </tr>\n",
                            "  </tbody>\n",
                            "</table>\n",
                            "<p>150 rows × 5 columns</p>\n",
                            "</div>"
                        ]
                    },
                    "metadata": {},
                    "execution_count": 9
                }
            ],
            "metadata": {}
        },
        {
            "cell_type": "code",
            "execution_count": 10,
            "source": [
                "x = df.iloc[:,:-1]\r\n",
                "y = df.iloc[:,-1]"
            ],
            "outputs": [],
            "metadata": {}
        },
        {
            "cell_type": "code",
            "execution_count": 11,
            "source": [
                "from sklearn.model_selection import train_test_split"
            ],
            "outputs": [],
            "metadata": {}
        },
        {
            "cell_type": "code",
            "execution_count": 12,
            "source": [
                "x_train,x_test,y_train,y_test = train_test_split(x,y,test_size=0.2,random_state=10)"
            ],
            "outputs": [],
            "metadata": {}
        },
        {
            "cell_type": "code",
            "execution_count": 13,
            "source": [
                "x_train = SS.fit_transform(x_train)\r\n",
                "x_test = SS.fit_transform(x_test)"
            ],
            "outputs": [],
            "metadata": {}
        },
        {
            "cell_type": "code",
            "execution_count": 14,
            "source": [
                "from sklearn.linear_model import LogisticRegression"
            ],
            "outputs": [],
            "metadata": {}
        },
        {
            "cell_type": "code",
            "execution_count": 15,
            "source": [
                "LR = LogisticRegression()"
            ],
            "outputs": [],
            "metadata": {}
        },
        {
            "cell_type": "code",
            "execution_count": 16,
            "source": [
                "LR.fit(x_train,y_train)"
            ],
            "outputs": [
                {
                    "output_type": "execute_result",
                    "data": {
                        "text/plain": [
                            "LogisticRegression()"
                        ]
                    },
                    "metadata": {},
                    "execution_count": 16
                }
            ],
            "metadata": {}
        },
        {
            "cell_type": "code",
            "execution_count": 25,
            "source": [
                " LR.predict(x_test)"
            ],
            "outputs": [
                {
                    "output_type": "execute_result",
                    "data": {
                        "text/plain": [
                            "array(['Iris-versicolor', 'Iris-virginica', 'Iris-setosa',\n",
                            "       'Iris-versicolor', 'Iris-setosa', 'Iris-versicolor',\n",
                            "       'Iris-virginica', 'Iris-versicolor', 'Iris-setosa',\n",
                            "       'Iris-versicolor', 'Iris-versicolor', 'Iris-virginica',\n",
                            "       'Iris-versicolor', 'Iris-setosa', 'Iris-setosa', 'Iris-virginica',\n",
                            "       'Iris-versicolor', 'Iris-setosa', 'Iris-setosa', 'Iris-setosa',\n",
                            "       'Iris-virginica', 'Iris-virginica', 'Iris-virginica',\n",
                            "       'Iris-setosa', 'Iris-versicolor', 'Iris-setosa', 'Iris-versicolor',\n",
                            "       'Iris-versicolor', 'Iris-versicolor', 'Iris-virginica'],\n",
                            "      dtype=object)"
                        ]
                    },
                    "metadata": {},
                    "execution_count": 25
                }
            ],
            "metadata": {}
        },
        {
            "cell_type": "code",
            "execution_count": 18,
            "source": [],
            "outputs": [
                {
                    "output_type": "execute_result",
                    "data": {
                        "text/plain": [
                            "array([[ 0.73821653, -1.59411989,  0.43698644,  0.25107207],\n",
                            "       [ 0.86926089, -0.67883574,  0.97328799,  1.10376967],\n",
                            "       [-0.44118266,  1.60937462, -1.29109631, -1.31220686],\n",
                            "       [ 0.47612782,  0.00762737,  0.55616457,  0.39318834],\n",
                            "       [-0.96536008,  0.69409048, -1.35068538, -1.31220686],\n",
                            "       [-0.96536008, -2.280583  , -0.0993151 , -0.17527673],\n",
                            "       [ 0.73821653, -1.13647782,  0.73493175,  0.5353046 ],\n",
                            "       [ 0.08299476, -0.67883574,  0.25821926, -0.17527673],\n",
                            "       [-0.83431573,  0.92291151, -1.29109631, -1.31220686],\n",
                            "       [-0.0480496 , -0.45001471,  0.49657551,  0.25107207],\n",
                            "       [-0.17909395,  0.00762737,  0.49657551,  0.5353046 ],\n",
                            "       [ 0.08299476, -0.67883574,  0.85410987,  1.10376967],\n",
                            "       [-0.31013831, -1.59411989,  0.1986302 ,  0.25107207],\n",
                            "       [-1.09640444,  0.00762737, -1.35068538, -1.31220686],\n",
                            "       [-0.83431573,  1.83819566, -1.29109631, -1.1700906 ],\n",
                            "       [ 1.39343831,  0.00762737,  1.09246611,  1.38800221],\n",
                            "       [ 0.34508347,  0.92291151,  0.49657551,  0.67742087],\n",
                            "       [-1.75162621,  0.00762737, -1.41027444, -1.31220686],\n",
                            "       [-0.83431573,  1.60937462, -1.29109631, -1.02797433],\n",
                            "       [-0.96536008,  0.46526944, -1.4698635 , -1.31220686],\n",
                            "       [ 1.78657138,  0.00762737,  1.33082235,  1.38800221],\n",
                            "       [ 0.86926089, -0.45001471,  1.15205517,  1.53011847],\n",
                            "       [ 0.60717218, -0.45001471,  0.67534269,  0.96165341],\n",
                            "       [-1.22744879,  0.92291151, -1.05274007, -1.31220686],\n",
                            "       [ 0.21403911,  0.00762737,  0.31780832,  0.5353046 ],\n",
                            "       [-1.35849315,  0.46526944, -1.41027444, -1.31220686],\n",
                            "       [-0.0480496 ,  0.00762737,  0.31780832,  0.1089558 ],\n",
                            "       [-0.31013831, -0.90765678,  0.43698644,  0.1089558 ],\n",
                            "       [ 1.39343831, -0.45001471,  0.67534269,  0.39318834],\n",
                            "       [ 2.57283751,  1.83819566,  1.80753484,  1.53011847]])"
                        ]
                    },
                    "metadata": {},
                    "execution_count": 18
                }
            ],
            "metadata": {}
        },
        {
            "cell_type": "code",
            "execution_count": 24,
            "source": [
                "LR.score(x_test,y_test)"
            ],
            "outputs": [
                {
                    "output_type": "execute_result",
                    "data": {
                        "text/plain": [
                            "0.9666666666666667"
                        ]
                    },
                    "metadata": {},
                    "execution_count": 24
                }
            ],
            "metadata": {}
        },
        {
            "cell_type": "code",
            "execution_count": 20,
            "source": [
                "y_test"
            ],
            "outputs": [
                {
                    "output_type": "execute_result",
                    "data": {
                        "text/plain": [
                            "87     Iris-versicolor\n",
                            "111     Iris-virginica\n",
                            "10         Iris-setosa\n",
                            "91     Iris-versicolor\n",
                            "49         Iris-setosa\n",
                            "60     Iris-versicolor\n",
                            "72     Iris-versicolor\n",
                            "67     Iris-versicolor\n",
                            "39         Iris-setosa\n",
                            "55     Iris-versicolor\n",
                            "66     Iris-versicolor\n",
                            "142     Iris-virginica\n",
                            "53     Iris-versicolor\n",
                            "1          Iris-setosa\n",
                            "19         Iris-setosa\n",
                            "112     Iris-virginica\n",
                            "85     Iris-versicolor\n",
                            "38         Iris-setosa\n",
                            "21         Iris-setosa\n",
                            "35         Iris-setosa\n",
                            "102     Iris-virginica\n",
                            "132     Iris-virginica\n",
                            "126     Iris-virginica\n",
                            "24         Iris-setosa\n",
                            "61     Iris-versicolor\n",
                            "2          Iris-setosa\n",
                            "95     Iris-versicolor\n",
                            "90     Iris-versicolor\n",
                            "76     Iris-versicolor\n",
                            "117     Iris-virginica\n",
                            "Name: species, dtype: object"
                        ]
                    },
                    "metadata": {},
                    "execution_count": 20
                }
            ],
            "metadata": {}
        },
        {
            "cell_type": "code",
            "execution_count": null,
            "source": [],
            "outputs": [],
            "metadata": {}
        }
    ],
    "metadata": {
        "orig_nbformat": 4,
        "language_info": {
            "name": "python",
            "version": "3.9.6",
            "mimetype": "text/x-python",
            "codemirror_mode": {
                "name": "ipython",
                "version": 3
            },
            "pygments_lexer": "ipython3",
            "nbconvert_exporter": "python",
            "file_extension": ".py"
        },
        "kernelspec": {
            "name": "python3",
            "display_name": "Python 3.9.6 64-bit"
        },
        "interpreter": {
            "hash": "5bb7c3507a1a264403ffe15135e617c42b0804990b25a621a5e07a20ce85bd40"
        }
    },
    "nbformat": 4,
    "nbformat_minor": 2
}